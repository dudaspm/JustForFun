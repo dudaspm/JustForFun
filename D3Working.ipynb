{
  "nbformat": 4,
  "nbformat_minor": 0,
  "metadata": {
    "colab": {
      "name": "D3Working.ipynb",
      "provenance": [],
      "collapsed_sections": [],
      "include_colab_link": true
    },
    "kernelspec": {
      "name": "python3",
      "display_name": "Python 3"
    }
  },
  "cells": [
    {
      "cell_type": "markdown",
      "metadata": {
        "id": "view-in-github",
        "colab_type": "text"
      },
      "source": [
        "<a href=\"https://colab.research.google.com/github/dudaspm/JustForFun/blob/master/D3Working.ipynb\" target=\"_parent\"><img src=\"https://colab.research.google.com/assets/colab-badge.svg\" alt=\"Open In Colab\"/></a>"
      ]
    },
    {
      "cell_type": "code",
      "metadata": {
        "id": "RnhKs03D2vT8",
        "colab_type": "code",
        "colab": {}
      },
      "source": [
        "from IPython.display import  HTML\n",
        "\n",
        "def load_d3_in_cell_output():\n",
        "  display(HTML(\"<script src='https://d3js.org/d3.v5.min.js'></script>\"))\n",
        "get_ipython().events.register('pre_run_cell', load_d3_in_cell_output)"
      ],
      "execution_count": 1,
      "outputs": []
    },
    {
      "cell_type": "code",
      "metadata": {
        "id": "hEScOh8YETyo",
        "colab_type": "code",
        "colab": {
          "base_uri": "https://localhost:8080/",
          "height": 17
        },
        "outputId": "af351bb5-bacf-4e6c-8a2d-bc43f1e43bca"
      },
      "source": [
        "thisisaanrray = [1,2,4,8,10]"
      ],
      "execution_count": 4,
      "outputs": [
        {
          "output_type": "display_data",
          "data": {
            "text/html": [
              "<script src='https://d3js.org/d3.v5.min.js'></script>"
            ],
            "text/plain": [
              "<IPython.core.display.HTML object>"
            ]
          },
          "metadata": {
            "tags": []
          }
        }
      ]
    },
    {
      "cell_type": "code",
      "metadata": {
        "id": "fBB-iVXe2ygb",
        "colab_type": "code",
        "colab": {
          "base_uri": "https://localhost:8080/",
          "height": 221
        },
        "outputId": "d2ca19ae-afc3-4e39-fea3-36f6492f403e"
      },
      "source": [
        "import IPython\n",
        "js_code = \\\n",
        "'''\n",
        "\n",
        "        let data = {};\n",
        "        console.log(data)\n",
        "        var svg = d3.select('div#output-area').append('svg')\n",
        "            .attr('width', 400)\n",
        "            .attr('height', 200);\n",
        "        svg.selectAll('circle')\n",
        "            .data(data)\n",
        "            .enter()\n",
        "            .append('circle')\n",
        "            .attr(\"cx\", (d,i)=>40 * (i + 1))\n",
        "            .attr(\"cy\", (d,i)=>40 * (i + 1))\n",
        "            .style(\"fill\", \"#1570a4\")\n",
        "            .transition().duration(2000)\n",
        "            .attr(\"r\", (d,i)=>d*2);\n",
        "        \n",
        "'''.format(thisisaanrray)\n",
        "\n",
        "\n",
        "display(IPython.display.Javascript(js_code))"
      ],
      "execution_count": 5,
      "outputs": [
        {
          "output_type": "display_data",
          "data": {
            "text/html": [
              "<script src='https://d3js.org/d3.v5.min.js'></script>"
            ],
            "text/plain": [
              "<IPython.core.display.HTML object>"
            ]
          },
          "metadata": {
            "tags": []
          }
        },
        {
          "output_type": "display_data",
          "data": {
            "application/javascript": [
              "\n",
              "\n",
              "        let data = [1, 2, 4, 8, 10];\n",
              "        console.log(data)\n",
              "        var svg = d3.select('div#output-area').append('svg')\n",
              "            .attr('width', 400)\n",
              "            .attr('height', 200);\n",
              "        svg.selectAll('circle')\n",
              "            .data(data)\n",
              "            .enter()\n",
              "            .append('circle')\n",
              "            .attr(\"cx\", (d,i)=>40 * (i + 1))\n",
              "            .attr(\"cy\", (d,i)=>40 * (i + 1))\n",
              "            .style(\"fill\", \"#1570a4\")\n",
              "            .transition().duration(2000)\n",
              "            .attr(\"r\", (d,i)=>d*2);\n",
              "        \n"
            ],
            "text/plain": [
              "<IPython.core.display.Javascript object>"
            ]
          },
          "metadata": {
            "tags": []
          }
        }
      ]
    },
    {
      "cell_type": "code",
      "metadata": {
        "id": "kjbof2NXESln",
        "colab_type": "code",
        "colab": {}
      },
      "source": [
        ""
      ],
      "execution_count": null,
      "outputs": []
    }
  ]
}